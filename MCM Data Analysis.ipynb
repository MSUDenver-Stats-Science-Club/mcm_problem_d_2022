{
 "cells": [
  {
   "cell_type": "code",
   "execution_count": 43,
   "id": "a11f3056",
   "metadata": {},
   "outputs": [
    {
     "name": "stdout",
     "output_type": "stream",
     "text": [
      "{'Programming': 6, 'Math/Statistics': 6, 'Project Management': 4, 'Data Analysis': 7, 'Communication': 2}\n",
      "Highest Rated Skill: Data Analysis\n",
      "5\n"
     ]
    }
   ],
   "source": [
    "import pandas as pd\n",
    "import random as rd\n",
    "import statistics as st\n",
    "import numpy as np\n",
    "\n",
    "\n",
    "skills = ['Programming', 'Quantitaive', 'Project Management', 'Data Analysis', 'Communication']\n",
    "\n",
    "values = []\n",
    "i = 1; j = 10\n",
    "rank = dict()\n",
    "for key in skills:\n",
    "    rank[key] = rd.randint(i, j)\n",
    "print(rank)\n",
    "    \n",
    "for j in rank.values():\n",
    "    values.append(j)\n",
    "    ave = st.mean(values)\n",
    "    new_val = max(rank, key= lambda x: rank[x])\n",
    "print(\"Highest Rated Skill:\",new_val)\n",
    "print(round(ave, 1))"
   ]
  },
  {
   "cell_type": "code",
   "execution_count": 80,
   "id": "7520670b",
   "metadata": {},
   "outputs": [
    {
     "name": "stdout",
     "output_type": "stream",
     "text": [
      "[1, 0]\n",
      "This task gets a rank of 2: Low cost, High time task\n"
     ]
    },
    {
     "data": {
      "text/html": [
       "<div>\n",
       "<style scoped>\n",
       "    .dataframe tbody tr th:only-of-type {\n",
       "        vertical-align: middle;\n",
       "    }\n",
       "\n",
       "    .dataframe tbody tr th {\n",
       "        vertical-align: top;\n",
       "    }\n",
       "\n",
       "    .dataframe thead th {\n",
       "        text-align: right;\n",
       "    }\n",
       "</style>\n",
       "<table border=\"1\" class=\"dataframe\">\n",
       "  <thead>\n",
       "    <tr style=\"text-align: right;\">\n",
       "      <th></th>\n",
       "      <th>High Cost</th>\n",
       "      <th>Low Cost</th>\n",
       "    </tr>\n",
       "  </thead>\n",
       "  <tbody>\n",
       "    <tr>\n",
       "      <th>High Time</th>\n",
       "      <td>3</td>\n",
       "      <td>2</td>\n",
       "    </tr>\n",
       "    <tr>\n",
       "      <th>Low Time</th>\n",
       "      <td>2</td>\n",
       "      <td>1</td>\n",
       "    </tr>\n",
       "  </tbody>\n",
       "</table>\n",
       "</div>"
      ],
      "text/plain": [
       "           High Cost  Low Cost\n",
       "High Time          3         2\n",
       "Low Time           2         1"
      ]
     },
     "execution_count": 80,
     "metadata": {},
     "output_type": "execute_result"
    }
   ],
   "source": [
    "cost = rd.randint(0,1)\n",
    "time = rd.randint(0,1)\n",
    "task = [cost, time]\n",
    "print(task)\n",
    "def tg(task):\n",
    "    if task == [0,0]:\n",
    "        r = 1\n",
    "        print('This task gets a rank of {r:d}: Low cost, Low time task'.format(r = r))\n",
    "    elif task == [1,0]:\n",
    "        r = 2\n",
    "        print('This task gets a rank of {r:d}: Low cost, High time task'.format(r = r))\n",
    "    elif task == [0,1]:\n",
    "        r == 2\n",
    "        print('This task gets a rank of {r:d}: High cost, Low time task'.format(r = r))\n",
    "    else:\n",
    "        r = 3\n",
    "        print('This task gets a rank of {r:d}: High cost, High time task'.format(r = r))\n",
    "tg(task)    \n",
    "    \n",
    "df = pd.DataFrame([[3, 2], [2, 1]],\n",
    "                index=['High Time', 'Low Time'], columns=['High Cost', 'Low Cost'])\n",
    "df"
   ]
  },
  {
   "cell_type": "code",
   "execution_count": 167,
   "id": "336dab08",
   "metadata": {},
   "outputs": [
    {
     "name": "stdout",
     "output_type": "stream",
     "text": [
      "[[5 0]\n",
      " [3 2]]\n",
      "Accuracy: 0.7\n"
     ]
    }
   ],
   "source": [
    "import pandas as pd\n",
    "import numpy as np\n",
    "from sklearn.model_selection import train_test_split\n",
    "from sklearn.linear_model import LogisticRegression\n",
    "from sklearn import metrics\n",
    "import matplotlib.pyplot as plt\n",
    "\n",
    "#skill = np.random.randint(1,200,size=200)\n",
    "# ave = np.random.uniform(1,10,size=200)\n",
    "# ave = tuple([round(i, 1) for i in ave])\n",
    "# years = np.random.randint(1,15, size = 200)\n",
    "# lowct = np.random.randint(0,2, size = 200)\n",
    "\n",
    "ave = [9.4, 9.2, 9.3, 9.0, 8.9, 8.4, 8.1, 8.0, 7.9, 7.9, 7.8, 7.7, 7.7, 7.6, 7.6, 7.6, 7.5, 7.3, 7.1, 6.9, 6.8, 6.5, 6.5, 6.8, 6.7, 6.5, 6.5, 6.3, 6.2, 5.9, 5.5, 5.0, 4.8, 4.3, 4.5, 4.3, 4.2, 4.0, 4.0, 4.0]\n",
    "years = [6, 8, 9, 14, 10, 8, 4, 10, 12, 11, 7, 6, 5, 7, 8, 6, 7, 5, 5, 3, 4, 5, 4, 4, 3, 3, 2, 4, 3, 4, 3, 5, 4, 3, 2, 1, 1, 0, 0, 1]\n",
    "lowct = [1, 1, 1, 1, 1, 1, 1, 1, 1, 0, 1, 1 , 0, 1, 0, 1, 0, 0, 0, 0, 0, 0, 0, 0, 0, 0, 0, 0, 0, 1, 0 , 0, 1, 0, 0, 0, 0, 0, 0, 0]\n",
    "\n",
    "data = {'Average': ave, 'Years': years, 'Pro': lowct}\n",
    "df = pd.DataFrame(data)\n",
    "#define the predictor variables and the response variable\n",
    "X = df[['Average', 'Years']]\n",
    "y = df['Pro']\n",
    "\n",
    "#split the dataset into training (70%) and testing (30%) sets\n",
    "X_train,X_test,y_train,y_test = train_test_split(X,y,test_size=0.25,random_state=0) \n",
    "\n",
    "#instantiate the model\n",
    "log_regression = LogisticRegression()\n",
    "\n",
    "#fit the model using the training data\n",
    "log_regression.fit(X_train,y_train)\n",
    "\n",
    "#use model to make predictions on test data\n",
    "y_pred = log_regression.predict(X_test)\n",
    "\n",
    "cnf_matrix = metrics.confusion_matrix(y_test, y_pred)\n",
    "print(cnf_matrix)\n",
    "\n",
    "print(\"Accuracy:\",metrics.accuracy_score(y_test, y_pred))"
   ]
  },
  {
   "cell_type": "code",
   "execution_count": 168,
   "id": "f5d02e28",
   "metadata": {},
   "outputs": [
    {
     "data": {
      "image/png": "[encoded data removed]",
      "text/plain": [
       "<Figure size 432x288 with 1 Axes>"
      ]
     },
     "metadata": {
      "needs_background": "light"
     },
     "output_type": "display_data"
    }
   ],
   "source": [
    "#define metrics\n",
    "y_pred_proba = log_regression.predict_proba(X_test)[::,1]\n",
    "fpr, tpr, _ = metrics.roc_curve(y_test,  y_pred_proba)\n",
    "auc = metrics.roc_auc_score(y_test, y_pred_proba)\n",
    "\n",
    "#create ROC curve\n",
    "plt.plot(fpr,tpr,label=\"AUC=\"+str(auc))\n",
    "plt.legend(loc=4)\n",
    "plt.show()"
   ]
  },
  {
   "cell_type": "code",
   "execution_count": 157,
   "id": "85da8291",
   "metadata": {},
   "outputs": [
    {
     "name": "stdout",
     "output_type": "stream",
     "text": [
      "40\n",
      "40\n",
      "40\n"
     ]
    }
   ],
   "source": [
    "ave = [9.4, 9.2, 9.3, 9.0, 8.9, 8.4, 8.1, 8.0, 7.9, 7.9, 7.8, 7.7, 7.7, 7.6, 7.6, 7.6, 7.5, 7.3, 7.1, 6.9, 6.8, 6.5, 6.5, 6.8, 6.7, 6.5, 6.5, 6.3, 6.2, 5.9, 5.5, 5.0, 4.8, 4.3, 4.5, 4.3, 4.2, 4.0, 4.0, 4.0]\n",
    "years = [6, 8, 9, 14, 10, 8, 4, 10, 12, 11, 7, 6, 5, 7, 8, 6, 7, 5, 5, 3, 4, 5, 4, 4, 3, 3, 2, 4, 3, 4, 3, 5, 4, 3, 2, 1, 1, 0, 0, 1]\n",
    "pro = [1, 1, 1, 1, 1, 1, 1, 1, 1, 0, 1, 1 , 0, 1, 0, 1, 0, 0, 0, 0, 0, 0, 0, 0, 0, 0, 0, 0, 0, 1, 0 , 0, 1, 0, 0, 0, 0, 0, 0, 0]\n",
    "len(pro) == len(years) == len(ave)\n",
    "print(len(pro))\n",
    "print(len(years))\n",
    "print(len(ave))\n",
    "\n",
    "\n",
    "ave"
   ]
  }
 ],
 "metadata": {
  "kernelspec": {
   "display_name": "Python 3",
   "language": "python",
   "name": "python3"
  },
  "language_info": {
   "codemirror_mode": {
    "name": "ipython",
    "version": 3
   },
   "file_extension": ".py",
   "mimetype": "text/x-python",
   "name": "python",
   "nbconvert_exporter": "python",
   "pygments_lexer": "ipython3",
   "version": "3.9.5"
  }
 },
 "nbformat": 4,
 "nbformat_minor": 5
}
